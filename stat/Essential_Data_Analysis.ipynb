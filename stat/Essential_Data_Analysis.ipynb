{
 "cells": [
  {
   "cell_type": "code",
   "execution_count": 1,
   "metadata": {
    "collapsed": true
   },
   "outputs": [],
   "source": [
    "import pandas as pd\n",
    "import matplotlib.pyplot as plt\n",
    "import numpy as np"
   ]
  },
  {
   "cell_type": "code",
   "execution_count": 2,
   "metadata": {
    "collapsed": true
   },
   "outputs": [],
   "source": [
    "df = pd.read_excel(\"PopulationEstimates.xls\",skiprows=2)"
   ]
  },
  {
   "cell_type": "code",
   "execution_count": 3,
   "metadata": {},
   "outputs": [
    {
     "data": {
      "text/html": [
       "<div>\n",
       "<style>\n",
       "    .dataframe thead tr:only-child th {\n",
       "        text-align: right;\n",
       "    }\n",
       "\n",
       "    .dataframe thead th {\n",
       "        text-align: left;\n",
       "    }\n",
       "\n",
       "    .dataframe tbody tr th {\n",
       "        vertical-align: top;\n",
       "    }\n",
       "</style>\n",
       "<table border=\"1\" class=\"dataframe\">\n",
       "  <thead>\n",
       "    <tr style=\"text-align: right;\">\n",
       "      <th></th>\n",
       "      <th>FIPStxt</th>\n",
       "      <th>State</th>\n",
       "      <th>Area_Name</th>\n",
       "      <th>Rural-urban_Continuum Code_2003</th>\n",
       "      <th>Rural-urban_Continuum Code_2013</th>\n",
       "      <th>Urban_Influence_Code_2003</th>\n",
       "      <th>Urban_Influence_Code_2013</th>\n",
       "      <th>Economic_typology_2015</th>\n",
       "      <th>CENSUS_2010_POP</th>\n",
       "      <th>ESTIMATES_BASE_2010</th>\n",
       "      <th>...</th>\n",
       "      <th>R_DOMESTIC_MIG_2019</th>\n",
       "      <th>R_NET_MIG_2011</th>\n",
       "      <th>R_NET_MIG_2012</th>\n",
       "      <th>R_NET_MIG_2013</th>\n",
       "      <th>R_NET_MIG_2014</th>\n",
       "      <th>R_NET_MIG_2015</th>\n",
       "      <th>R_NET_MIG_2016</th>\n",
       "      <th>R_NET_MIG_2017</th>\n",
       "      <th>R_NET_MIG_2018</th>\n",
       "      <th>R_NET_MIG_2019</th>\n",
       "    </tr>\n",
       "  </thead>\n",
       "  <tbody>\n",
       "    <tr>\n",
       "      <th>0</th>\n",
       "      <td>0</td>\n",
       "      <td>US</td>\n",
       "      <td>United States</td>\n",
       "      <td>NaN</td>\n",
       "      <td>NaN</td>\n",
       "      <td>NaN</td>\n",
       "      <td>NaN</td>\n",
       "      <td>NaN</td>\n",
       "      <td>308745538</td>\n",
       "      <td>308758105</td>\n",
       "      <td>...</td>\n",
       "      <td>NaN</td>\n",
       "      <td>NaN</td>\n",
       "      <td>NaN</td>\n",
       "      <td>NaN</td>\n",
       "      <td>NaN</td>\n",
       "      <td>NaN</td>\n",
       "      <td>NaN</td>\n",
       "      <td>NaN</td>\n",
       "      <td>NaN</td>\n",
       "      <td>NaN</td>\n",
       "    </tr>\n",
       "    <tr>\n",
       "      <th>1</th>\n",
       "      <td>1000</td>\n",
       "      <td>AL</td>\n",
       "      <td>Alabama</td>\n",
       "      <td>NaN</td>\n",
       "      <td>NaN</td>\n",
       "      <td>NaN</td>\n",
       "      <td>NaN</td>\n",
       "      <td>NaN</td>\n",
       "      <td>4779736</td>\n",
       "      <td>4780125</td>\n",
       "      <td>...</td>\n",
       "      <td>1.917501</td>\n",
       "      <td>0.578434</td>\n",
       "      <td>1.186314</td>\n",
       "      <td>1.522549</td>\n",
       "      <td>0.563489</td>\n",
       "      <td>0.626357</td>\n",
       "      <td>0.745172</td>\n",
       "      <td>1.090366</td>\n",
       "      <td>1.773786</td>\n",
       "      <td>2.483744</td>\n",
       "    </tr>\n",
       "    <tr>\n",
       "      <th>2</th>\n",
       "      <td>1001</td>\n",
       "      <td>AL</td>\n",
       "      <td>Autauga County</td>\n",
       "      <td>2.0</td>\n",
       "      <td>2.0</td>\n",
       "      <td>2.0</td>\n",
       "      <td>2.0</td>\n",
       "      <td>0.0</td>\n",
       "      <td>54571</td>\n",
       "      <td>54597</td>\n",
       "      <td>...</td>\n",
       "      <td>4.847310</td>\n",
       "      <td>6.018182</td>\n",
       "      <td>-6.226119</td>\n",
       "      <td>-3.902226</td>\n",
       "      <td>1.970443</td>\n",
       "      <td>-1.712875</td>\n",
       "      <td>4.777171</td>\n",
       "      <td>0.849656</td>\n",
       "      <td>0.540916</td>\n",
       "      <td>4.560062</td>\n",
       "    </tr>\n",
       "    <tr>\n",
       "      <th>3</th>\n",
       "      <td>1003</td>\n",
       "      <td>AL</td>\n",
       "      <td>Baldwin County</td>\n",
       "      <td>4.0</td>\n",
       "      <td>3.0</td>\n",
       "      <td>5.0</td>\n",
       "      <td>2.0</td>\n",
       "      <td>5.0</td>\n",
       "      <td>182265</td>\n",
       "      <td>182265</td>\n",
       "      <td>...</td>\n",
       "      <td>24.017829</td>\n",
       "      <td>16.641870</td>\n",
       "      <td>17.488579</td>\n",
       "      <td>22.751474</td>\n",
       "      <td>20.184334</td>\n",
       "      <td>17.725964</td>\n",
       "      <td>21.279291</td>\n",
       "      <td>22.398256</td>\n",
       "      <td>24.727215</td>\n",
       "      <td>24.380567</td>\n",
       "    </tr>\n",
       "    <tr>\n",
       "      <th>4</th>\n",
       "      <td>1005</td>\n",
       "      <td>AL</td>\n",
       "      <td>Barbour County</td>\n",
       "      <td>6.0</td>\n",
       "      <td>6.0</td>\n",
       "      <td>6.0</td>\n",
       "      <td>6.0</td>\n",
       "      <td>3.0</td>\n",
       "      <td>27457</td>\n",
       "      <td>27455</td>\n",
       "      <td>...</td>\n",
       "      <td>-5.690302</td>\n",
       "      <td>0.292676</td>\n",
       "      <td>-6.897817</td>\n",
       "      <td>-8.132185</td>\n",
       "      <td>-5.140431</td>\n",
       "      <td>-15.724575</td>\n",
       "      <td>-18.238016</td>\n",
       "      <td>-24.998528</td>\n",
       "      <td>-8.754922</td>\n",
       "      <td>-5.165664</td>\n",
       "    </tr>\n",
       "  </tbody>\n",
       "</table>\n",
       "<p>5 rows × 165 columns</p>\n",
       "</div>"
      ],
      "text/plain": [
       "   FIPStxt State       Area_Name  Rural-urban_Continuum Code_2003  \\\n",
       "0        0    US   United States                              NaN   \n",
       "1     1000    AL         Alabama                              NaN   \n",
       "2     1001    AL  Autauga County                              2.0   \n",
       "3     1003    AL  Baldwin County                              4.0   \n",
       "4     1005    AL  Barbour County                              6.0   \n",
       "\n",
       "   Rural-urban_Continuum Code_2013  Urban_Influence_Code_2003  \\\n",
       "0                              NaN                        NaN   \n",
       "1                              NaN                        NaN   \n",
       "2                              2.0                        2.0   \n",
       "3                              3.0                        5.0   \n",
       "4                              6.0                        6.0   \n",
       "\n",
       "   Urban_Influence_Code_2013  Economic_typology_2015  CENSUS_2010_POP  \\\n",
       "0                        NaN                     NaN        308745538   \n",
       "1                        NaN                     NaN          4779736   \n",
       "2                        2.0                     0.0            54571   \n",
       "3                        2.0                     5.0           182265   \n",
       "4                        6.0                     3.0            27457   \n",
       "\n",
       "   ESTIMATES_BASE_2010       ...        R_DOMESTIC_MIG_2019  R_NET_MIG_2011  \\\n",
       "0            308758105       ...                        NaN             NaN   \n",
       "1              4780125       ...                   1.917501        0.578434   \n",
       "2                54597       ...                   4.847310        6.018182   \n",
       "3               182265       ...                  24.017829       16.641870   \n",
       "4                27455       ...                  -5.690302        0.292676   \n",
       "\n",
       "   R_NET_MIG_2012  R_NET_MIG_2013  R_NET_MIG_2014  R_NET_MIG_2015  \\\n",
       "0             NaN             NaN             NaN             NaN   \n",
       "1        1.186314        1.522549        0.563489        0.626357   \n",
       "2       -6.226119       -3.902226        1.970443       -1.712875   \n",
       "3       17.488579       22.751474       20.184334       17.725964   \n",
       "4       -6.897817       -8.132185       -5.140431      -15.724575   \n",
       "\n",
       "   R_NET_MIG_2016  R_NET_MIG_2017  R_NET_MIG_2018  R_NET_MIG_2019  \n",
       "0             NaN             NaN             NaN             NaN  \n",
       "1        0.745172        1.090366        1.773786        2.483744  \n",
       "2        4.777171        0.849656        0.540916        4.560062  \n",
       "3       21.279291       22.398256       24.727215       24.380567  \n",
       "4      -18.238016      -24.998528       -8.754922       -5.165664  \n",
       "\n",
       "[5 rows x 165 columns]"
      ]
     },
     "execution_count": 3,
     "metadata": {},
     "output_type": "execute_result"
    }
   ],
   "source": [
    "df.head()"
   ]
  },
  {
   "cell_type": "code",
   "execution_count": 4,
   "metadata": {},
   "outputs": [
    {
     "data": {
      "text/plain": [
       "<matplotlib.figure.Figure at 0x7fd7e4a17390>"
      ]
     },
     "execution_count": 4,
     "metadata": {},
     "output_type": "execute_result"
    }
   ],
   "source": [
    "plt.figure(figsize=(8,6))"
   ]
  },
  {
   "cell_type": "code",
   "execution_count": 5,
   "metadata": {},
   "outputs": [
    {
     "data": {
      "image/png": "[encoded data removed]",
      "text/plain": [
       "<matplotlib.figure.Figure at 0x7fd7e4a17390>"
      ]
     },
     "metadata": {},
     "output_type": "display_data"
    }
   ],
   "source": [
    "plt.rcParams.update({'font.size':22})\n",
    "plt.hist(df[\"R_NET_MIG_2013\"].dropna().values,bins=np.linspace(np.nanmin(df[\"R_NET_MIG_2013\"]),np.nanmax(df[\"R_NET_MIG_2013\"]),100))\n",
    "plt.title(\"Rate of Net Immigration Distribution for All Records, 2013\")\n",
    "plt.show()"
   ]
  },
  {
   "cell_type": "code",
   "execution_count": 6,
   "metadata": {},
   "outputs": [
    {
     "data": {
      "image/png": "[encoded data removed]",
      "text/plain": [
       "<matplotlib.figure.Figure at 0x7fd7e45b5ef0>"
      ]
     },
     "metadata": {},
     "output_type": "display_data"
    }
   ],
   "source": [
    "import random\n",
    "\n",
    "random.seed(2021)\n",
    "\n",
    "plt.figure(figsize=(8,6))\n",
    "rvs = [random.random() for _ in range(1000)]\n",
    "plt.hist(rvs,bins=50)\n",
    "plt.show()"
   ]
  },
  {
   "cell_type": "code",
   "execution_count": 7,
   "metadata": {},
   "outputs": [
    {
     "data": {
      "text/plain": [
       "0.5048858787489642"
      ]
     },
     "execution_count": 7,
     "metadata": {},
     "output_type": "execute_result"
    }
   ],
   "source": [
    "np.mean(rvs)"
   ]
  },
  {
   "cell_type": "code",
   "execution_count": 8,
   "metadata": {},
   "outputs": [
    {
     "data": {
      "text/plain": [
       "0.5026630148178393"
      ]
     },
     "execution_count": 8,
     "metadata": {},
     "output_type": "execute_result"
    }
   ],
   "source": [
    "np.median(rvs)"
   ]
  },
  {
   "cell_type": "code",
   "execution_count": 9,
   "metadata": {},
   "outputs": [
    {
     "data": {
      "image/png": "[encoded data removed]",
      "text/plain": [
       "<matplotlib.figure.Figure at 0x7fd7f05ab160>"
      ]
     },
     "metadata": {},
     "output_type": "display_data"
    }
   ],
   "source": [
    "# Bimodal distribution\n",
    "\n",
    "r1 = [random.normalvariate(0.5,0.2) for _ in range(10000)]\n",
    "r2 = [random.normalvariate(0.2,0.1) for _ in range(5000)]\n",
    "r3 = [random.normalvariate(0.8,0.2) for _ in range(5000)]\n",
    "\n",
    "fig, axes = plt.subplots(1,2,figsize=(12,5))\n",
    "axes[0].hist(r1,bins=100)\n",
    "axes[0].set_title(\"Unimodal\")\n",
    "axes[1].hist(r2+r3,bins=100)\n",
    "axes[1].set_title(\"Bimodal\")\n",
    "plt.show()"
   ]
  },
  {
   "cell_type": "code",
   "execution_count": 10,
   "metadata": {},
   "outputs": [
    {
     "data": {
      "text/plain": [
       "0.20041583245950909"
      ]
     },
     "execution_count": 10,
     "metadata": {},
     "output_type": "execute_result"
    }
   ],
   "source": [
    "np.std(r1)"
   ]
  },
  {
   "cell_type": "code",
   "execution_count": 11,
   "metadata": {},
   "outputs": [
    {
     "data": {
      "text/plain": [
       "0.20041583245950909"
      ]
     },
     "execution_count": 11,
     "metadata": {},
     "output_type": "execute_result"
    }
   ],
   "source": [
    "import math\n",
    "math.sqrt(np.var(r1))"
   ]
  },
  {
   "cell_type": "code",
   "execution_count": 12,
   "metadata": {
    "collapsed": true
   },
   "outputs": [],
   "source": [
    "dfTX = df[df[\"State\"] == \"TX\"].tail(-1)\n",
    "years = [year for year in range(2011,2019)]\n",
    "means = []\n",
    "stds = []\n",
    "\n",
    "for i in range(2011,2019):\n",
    "    year = \"R_NET_MIG_\" + str(i)\n",
    "    means.append(np.mean(dfTX[year]))\n",
    "    stds.append(np.std(dfTX[year]))"
   ]
  },
  {
   "cell_type": "code",
   "execution_count": 13,
   "metadata": {},
   "outputs": [
    {
     "data": {
      "text/plain": [
       "<matplotlib.figure.Figure at 0x7fd7e47560b8>"
      ]
     },
     "execution_count": 13,
     "metadata": {},
     "output_type": "execute_result"
    }
   ],
   "source": [
    "plt.figure(figsize=(10,8))"
   ]
  },
  {
   "cell_type": "code",
   "execution_count": 14,
   "metadata": {},
   "outputs": [
    {
     "data": {
      "image/png": "[encoded data removed]",
      "text/plain": [
       "<matplotlib.figure.Figure at 0x7fd7e47560b8>"
      ]
     },
     "metadata": {},
     "output_type": "display_data"
    }
   ],
   "source": [
    "plt.errorbar(years,means,yerr=stds)\n",
    "plt.xlabel(\"Year\")\n",
    "plt.ylabel(\"Net immigration rate\")\n",
    "plt.show()"
   ]
  },
  {
   "cell_type": "markdown",
   "metadata": {
    "collapsed": true
   },
   "source": [
    "## Quartiles"
   ]
  },
  {
   "cell_type": "code",
   "execution_count": 16,
   "metadata": {},
   "outputs": [
    {
     "data": {
      "text/plain": [
       "array([-7.88684884,  0.85134219,  8.8348733 ])"
      ]
     },
     "execution_count": 16,
     "metadata": {},
     "output_type": "execute_result"
    }
   ],
   "source": [
    "np.quantile(dfTX[\"R_NET_MIG_2013\"],[0.25,0.5,0.75])"
   ]
  },
  {
   "cell_type": "code",
   "execution_count": 19,
   "metadata": {},
   "outputs": [
    {
     "data": {
      "image/png": "[encoded data removed]",
      "text/plain": [
       "<matplotlib.figure.Figure at 0x7fd7f0851f28>"
      ]
     },
     "metadata": {},
     "output_type": "display_data"
    }
   ],
   "source": [
    "plt.figure(figsize=(12,5))\n",
    "plt.hist(dfTX[\"R_NET_MIG_2013\"],bins=50,alpha=0.6)\n",
    "for quartile in np.quantile(dfTX[\"R_NET_MIG_2013\"],[0.25,0.5,0.75]):\n",
    "    plt.axvline(quartile,linestyle=\":\",linewidth=4)\n",
    "plt.show()"
   ]
  },
  {
   "cell_type": "code",
   "execution_count": null,
   "metadata": {
    "collapsed": true
   },
   "outputs": [],
   "source": []
  }
 ],
 "metadata": {
  "kernelspec": {
   "display_name": "Python 3",
   "language": "python",
   "name": "python3"
  },
  "language_info": {
   "codemirror_mode": {
    "name": "ipython",
    "version": 3
   },
   "file_extension": ".py",
   "mimetype": "text/x-python",
   "name": "python",
   "nbconvert_exporter": "python",
   "pygments_lexer": "ipython3",
   "version": "3.6.3"
  }
 },
 "nbformat": 4,
 "nbformat_minor": 2
}
